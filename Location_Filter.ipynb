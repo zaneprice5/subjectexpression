{
  "cells": [
    {
      "cell_type": "markdown",
      "metadata": {
        "id": "view-in-github",
        "colab_type": "text"
      },
      "source": [
        "<a href=\"https://colab.research.google.com/github/zaneprice5/subjectexpression/blob/main/Location_Filter.ipynb\" target=\"_parent\"><img src=\"https://colab.research.google.com/assets/colab-badge.svg\" alt=\"Open In Colab\"/></a>"
      ]
    },
    {
      "cell_type": "code",
      "execution_count": null,
      "id": "aa8fb89f",
      "metadata": {
        "id": "aa8fb89f",
        "outputId": "e0c8fc61-b4de-4f82-c613-a618c0ac4f55"
      },
      "outputs": [
        {
          "name": "stdout",
          "output_type": "stream",
          "text": [
            "File written\n"
          ]
        }
      ],
      "source": [
        "\n",
        "#Import necessary python modules and rename \n",
        "import os # Python module to interact with OS\n",
        "import tweepy as tw # API module\n",
        "import pandas as pd # data structuring module\n",
        "import numpy as np # data structuring/calculation module\n",
        "import csv # module to save csv file \n",
        "import matplotlib.pyplot as plt\n",
        "%matplotlib inline\n",
        "\n",
        "\n",
        "\n",
        "temp = pd.read_csv('/Users/zane/Socio_Subj_Expres/pienso.csv')\n",
        "temp\n",
        "\n",
        "\n",
        "rslt_df = temp[temp['location'] == 'Honduras']\n",
        "df = pd.DataFrame(rslt_df)\n",
        "pd.DataFrame(rslt_df)\n",
        "\n",
        "#df\n",
        "\n",
        "\n",
        "rslt_df2 = temp[temp['location'] == 'Guatemala'] \n",
        "df2 = pd.DataFrame(rslt_df2)\n",
        "pd.DataFrame(rslt_df2)\n",
        "\n",
        "#df2\n",
        "\n",
        "\n",
        "rslt_df3 = temp[temp['location'] == 'Nicaragua']\n",
        "df3 = pd.DataFrame(rslt_df3)\n",
        "pd.DataFrame(rslt_df3)\n",
        "\n",
        "#df3\n",
        "\n",
        "rslt_df4 = temp[temp['location'] == 'El Salvador']\n",
        "df4 = pd.DataFrame(rslt_df4)\n",
        "pd.DataFrame(rslt_df4)\n",
        "\n",
        "#df4\n",
        "\n",
        "rslt_df5 = temp[temp['location'] == 'Costa Rica']\n",
        "df5 = pd.DataFrame(rslt_df5)\n",
        "pd.DataFrame(rslt_df5)\n",
        "\n",
        "#df5\n",
        "\n",
        "rslt_df6 = temp[temp['location'] == 'Panama']\n",
        "df6 = pd.DataFrame(rslt_df6)\n",
        "pd.DataFrame(rslt_df6)\n",
        "\n",
        "#df6\n",
        "\n",
        "\n",
        "#Join the dataframes\n",
        "\n",
        "frames = [df, df2, df3, df4, df5, df6]\n",
        "\n",
        "result = pd.concat(frames)\n",
        "\n",
        "#result.info()\n",
        "result\n",
        "\n",
        "result.to_excel('central_america_6.xlsx', sheet_name='central_america')\n",
        "print('File written')"
      ]
    },
    {
      "cell_type": "code",
      "execution_count": null,
      "id": "edceeca7",
      "metadata": {
        "id": "edceeca7"
      },
      "outputs": [],
      "source": [
        ""
      ]
    },
    {
      "cell_type": "code",
      "execution_count": null,
      "id": "44fd564f",
      "metadata": {
        "id": "44fd564f"
      },
      "outputs": [],
      "source": [
        ""
      ]
    }
  ],
  "metadata": {
    "kernelspec": {
      "display_name": "Python 3 (ipykernel)",
      "language": "python",
      "name": "python3"
    },
    "language_info": {
      "codemirror_mode": {
        "name": "ipython",
        "version": 3
      },
      "file_extension": ".py",
      "mimetype": "text/x-python",
      "name": "python",
      "nbconvert_exporter": "python",
      "pygments_lexer": "ipython3",
      "version": "3.9.7"
    },
    "colab": {
      "name": "Location_Filter.ipynb",
      "provenance": [],
      "include_colab_link": true
    }
  },
  "nbformat": 4,
  "nbformat_minor": 5
}